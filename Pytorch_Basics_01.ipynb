{
  "nbformat": 4,
  "nbformat_minor": 0,
  "metadata": {
    "colab": {
      "provenance": [],
      "gpuType": "T4",
      "private_outputs": true,
      "toc_visible": true,
      "authorship_tag": "ABX9TyP6IUV2l5IbuffRx8lCdXfS",
      "include_colab_link": true
    },
    "kernelspec": {
      "name": "python3",
      "display_name": "Python 3"
    },
    "language_info": {
      "name": "python"
    },
    "accelerator": "GPU"
  },
  "cells": [
    {
      "cell_type": "markdown",
      "metadata": {
        "id": "view-in-github",
        "colab_type": "text"
      },
      "source": [
        "<a href=\"https://colab.research.google.com/github/SagarVerma893/Git-tutorial/blob/master/Pytorch_Basics_01.ipynb\" target=\"_parent\"><img src=\"https://colab.research.google.com/assets/colab-badge.svg\" alt=\"Open In Colab\"/></a>"
      ]
    },
    {
      "cell_type": "code",
      "source": [
        "import torch\n",
        "import numpy as np\n",
        "!pip list"
      ],
      "metadata": {
        "id": "oOgdjpTJnLp8"
      },
      "execution_count": null,
      "outputs": []
    },
    {
      "cell_type": "code",
      "source": [
        "print(torch.__version__)"
      ],
      "metadata": {
        "id": "lLguh3rW-YDC"
      },
      "execution_count": null,
      "outputs": []
    },
    {
      "cell_type": "code",
      "source": [
        "my_tensor = torch.tensor([[1,2,3],[4,5,6]], dtype=torch.float32 ,device=\"cuda\",requires_grad=True)\n",
        "print(my_tensor)"
      ],
      "metadata": {
        "id": "vsrE1hmb-iyi"
      },
      "execution_count": null,
      "outputs": []
    },
    {
      "cell_type": "code",
      "source": [
        "print(my_tensor.dtype)\n",
        "print(my_tensor.device)\n",
        "print(my_tensor.shape)\n",
        "print(my_tensor.requires_grad)"
      ],
      "metadata": {
        "id": "_dTYtM75_EuA"
      },
      "execution_count": null,
      "outputs": []
    },
    {
      "cell_type": "code",
      "source": [
        "## Other common initialization methods\n",
        "x = torch.empty(size=(3,3))\n",
        "print(x)\n",
        "x = torch.zeros((3,3))\n",
        "print(x)\n",
        "x = torch.rand((3,3))\n",
        "print(x)\n",
        "x = torch.ones((3,3))\n",
        "print(x)\n",
        "x = torch.eye(5,5)\n",
        "print(x)\n",
        "x = torch.arange(start=0,end=5,step=1)\n",
        "print(x)\n",
        "x = torch.linspace(start=0.1,end=1,steps=10)\n",
        "print(x)\n",
        "x = torch.empty(size=(1,5)).normal_(mean=0,std=1)\n",
        "print(x)\n",
        "x = torch.empty(size=(1,5)).uniform_(0,1)\n",
        "print(x)\n",
        "x = torch.diag(torch.ones(3))\n",
        "print(x)"
      ],
      "metadata": {
        "id": "JLYgZShVACVR"
      },
      "execution_count": null,
      "outputs": []
    },
    {
      "cell_type": "code",
      "source": [
        "## How to initialize and convert tensors to other types like (int, float, double)\n",
        "tensor = torch.arange(4)\n",
        "print(tensor.bool()) # boolean True/False\n",
        "print(tensor.short()) # int16\n",
        "print(tensor.long()) # int64 (Important)\n",
        "print(tensor.half()) # float16\n",
        "print(tensor.float()) # float32 (Important)\n",
        "print(tensor.double()) # float64\n"
      ],
      "metadata": {
        "id": "8coIevpICvdB"
      },
      "execution_count": null,
      "outputs": []
    },
    {
      "cell_type": "code",
      "source": [
        "# Array to Tensor conversion and vice-versa\n",
        "import numpy as np\n",
        "np_array = np.zeros((5,5))\n",
        "tensor = torch.from_numpy(np_array)\n",
        "print(tensor)\n",
        "np_array_back = tensor.numpy()\n",
        "print(np_array_back)"
      ],
      "metadata": {
        "id": "cDPohORZEuU8"
      },
      "execution_count": null,
      "outputs": []
    },
    {
      "cell_type": "code",
      "source": [
        "# Tensor Math & Comparison Operations\n",
        "x = torch.tensor([1,2,3])\n",
        "y = torch.tensor([9,8,7])\n",
        "\n",
        "# Addition\n",
        "z1 = torch.empty(3)\n",
        "torch.add(x,y,out=z1)\n",
        "\n",
        "z2 = torch.add(x,y)\n",
        "z = x + y\n",
        "print(z)\n",
        "\n",
        "# Subtraction\n",
        "z = x - y\n",
        "print(z)\n",
        "\n",
        "# Division\n",
        "z = torch.true_divide(x,y)\n",
        "print(z)\n",
        "\n",
        "# inplace operations\n",
        "t = torch.zeros(3)\n",
        "t.add_(x)\n",
        "t += x  # t = t + x\n",
        "print(t)\n",
        "\n",
        "# Exponentiation\n",
        "z = x.pow(2)\n",
        "print(z)\n",
        "z = x ** 2\n",
        "print(z)\n",
        "\n",
        "# Simple comparison\n",
        "z = x > 0\n",
        "print(z)\n",
        "\n",
        "# Matrix Multiplication\n",
        "x1 = torch.rand((2,5))\n",
        "x2 = torch.rand((5,3))\n",
        "x3 = torch.mm(x1,x2)\n",
        "x3 = x1.mm(x2)\n",
        "\n",
        "# Matrix exponentiation\n",
        "matrix_exp = torch.rand(5,5)\n",
        "print(matrix_exp.matrix_power(3))\n",
        "\n",
        "# element wise mult\n",
        "z = x*y\n",
        "print(z)\n",
        "\n",
        "# dot product\n",
        "z = torch.dot(x,y)\n",
        "print(z)\n",
        "\n",
        "# batch Matrix Multiplication\n",
        "\n",
        "batch = 32\n",
        "n = 10\n",
        "m = 20\n",
        "p = 30\n",
        "\n",
        "tensor1 = torch.rand((batch,n,m))\n",
        "tensor2 = torch.rand((batch,m,n))\n",
        "out_bmn = torch.bmm(tensor1, tensor2) # (batch, m, n)\n",
        "\n",
        "# Example of broadcasting\n",
        "x1 = torch.rand((5, 5))\n",
        "x2 = torch.ones((1, 5))\n",
        "z = x1 - x2\n",
        "print(z)\n",
        "z = x1 ** x2\n",
        "print(z)\n",
        "\n"
      ],
      "metadata": {
        "id": "xmRlT9-xUhu2"
      },
      "execution_count": null,
      "outputs": []
    },
    {
      "cell_type": "code",
      "source": [
        "# Other useful tensor operations\n",
        "sum_x = torch.sum(x, dim=0)\n",
        "values, indices = torch.max(x, dim=0)\n",
        "values, indices = torch.min(x, dim=0)\n",
        "abs_x = torch.abs(x)\n",
        "z = torch.argmax(x, dim=0)\n",
        "z = torch.argmin(x, dim=0)\n",
        "mean_x = torch.mean(x.float(), dim=0)\n",
        "z = torch.eq(x, y)\n",
        "sorted_y,indices = torch.sort(y, dim=0, descending=False)\n",
        "z = torch.clamp(x, min=0)"
      ],
      "metadata": {
        "id": "GTfQ-1FEUqDz"
      },
      "execution_count": null,
      "outputs": []
    },
    {
      "cell_type": "code",
      "source": [
        "# Tensor Indexing\n",
        "batch_size = 10\n",
        "features = 25\n",
        "x = torch.rand((batch_size, features))\n",
        "print(x[0].shape)\n",
        "print(x[:, 0].shape)\n",
        "print(x[2, 0:10])\n",
        "x[0, 0] = 100\n",
        "\n",
        "# Fancy Indexing\n",
        "x = torch.arange(10)\n",
        "indices = [2,5,8]\n",
        "print(x[indices])\n",
        "\n",
        "x = torch.rand((3,5))\n",
        "rows = torch.tensor([1,0])\n",
        "cols = torch.tensor([4,0])\n",
        "print(x[rows, cols].shape)\n",
        "\n",
        "# More advanced indexing\n",
        "x = torch.arange(10)\n",
        "print(x[(x<2)&(x>8)])\n",
        "print(x[x.remainder(2) == 0])\n",
        "\n",
        "# Useful operations\n",
        "print(torch.where(x>5 ,x , x*5))\n",
        "print(torch.tensor([0,0,1,2,2,3,4]).unique())\n",
        "print(x.ndimension())\n",
        "print(x.numel())\n",
        "\n"
      ],
      "metadata": {
        "id": "fbPXyfwAMHkU"
      },
      "execution_count": null,
      "outputs": []
    },
    {
      "cell_type": "code",
      "source": [
        "# Tensor Reshaping\n",
        "\n",
        "x = torch.arange(9)\n",
        "x_3x3 = x.view(3,3)\n",
        "print(x_3x3)\n",
        "x_3x3 = x.reshape(3,3)\n",
        "\n",
        "y = x_3x3.t()\n",
        "print(y)\n",
        "\n",
        "print(y.contiguous().view(9))\n",
        "\n",
        "x1 = torch.rand((2,5))\n",
        "x2 = torch.rand((2,5))\n",
        "print(torch.cat((x1, x2), dim=0).shape)\n",
        "print(torch.cat((x1, x2), dim=1).shape)\n",
        "\n",
        "z = x1.view(-1)\n",
        "print(z.shape)\n",
        "\n",
        "batch = 64\n",
        "x = torch.rand((batch, 2, 5))\n",
        "z = x.view(batch, -1)\n",
        "print(z.shape)\n",
        "\n",
        "z = x.permute(0, 2, 1)\n",
        "print(z.shape)\n",
        "\n",
        "x = torch.arange(10)\n",
        "print(x.unsqueeze(0).shape)\n",
        "print(x.unsqueeze(1).shape)\n",
        "x = torch.arange(10).unsqueeze(0).unsqueeze(1)\n",
        "print(x)\n",
        "\n",
        "z = x.squeeze(1)\n",
        "print(z.shape)"
      ],
      "metadata": {
        "id": "dJuYi84aOihB"
      },
      "execution_count": null,
      "outputs": []
    }
  ]
}